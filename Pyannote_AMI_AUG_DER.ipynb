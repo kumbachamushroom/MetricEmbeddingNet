{
 "cells": [],
 "metadata": {
  "kernelspec": {
   "display_name": "Python 3",
   "language": "python",
   "name": "python3"
  },
  "language_info": {
   "codemirror_mode": {
    "name": "ipython",
    "version": 2
   },
   "file_extension": ".py",
   "mimetype": "text/x-python",
   "name": "python",
   "nbconvert_exporter": "python",
   "pygments_lexer": "ipython2",
   "version": "2.7.6"
  },
  "pycharm": {
   "stem_cell": {
    "cell_type": "raw",
    "source": [
     "from pyannote.database.util import load_rttm\n",
     "from pyannote.core import Segment, notebook\n",
     "from pyannote.audio.features import RawAudio\n",
     "#from IPython.display import Audio\n",
     "import torch\n",
     "from pyannote.metrics.diarization import DiarizationErrorRate\n",
     "\n",
     "Audio_File = {'uri':'IB4011.Mix-Headset', 'audio':'/home/lucvanwyk/pyannote-audio/tutorials/data/amicorpus/IB4011/audio/IB4011.Mix-Headset.wav'}\n",
     "groundtruth = load_rttm('/home/lucvanwyk/Data/pyannote/AMI/MixHeadset.development.rttm')[Audio_File['uri']]\n",
     "groundtruth\n",
     "\n",
     "pipeline = torch.hub.load('pyannote/pyannote-audio','dia_ami')\n",
     "diarization = pipeline(Audio_File)\n",
     "\n",
     "diarization\n",
     "\n",
     "metric = DiarizationErrorRate()\n",
     "der = metric(groundtruth, diarization)\n",
     "\n",
     "print(der)\n",
     "print('done')"
    ],
    "metadata": {
     "collapsed": false
    }
   }
  }
 },
 "nbformat": 4,
 "nbformat_minor": 0
}